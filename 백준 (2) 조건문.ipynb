{
 "cells": [
  {
   "cell_type": "code",
   "execution_count": 4,
   "id": "c6b395e9",
   "metadata": {},
   "outputs": [
    {
     "name": "stdout",
     "output_type": "stream",
     "text": [
      "3 3\n",
      "==\n"
     ]
    }
   ],
   "source": [
    "# 1360번 두 수 비교하기\n",
    "\n",
    "a, b = map(int, input().split())\n",
    "\n",
    "if a < b:\n",
    "    print('<')\n",
    "elif a > b:\n",
    "    print('>')\n",
    "else:\n",
    "    print('==')"
   ]
  },
  {
   "cell_type": "code",
   "execution_count": 5,
   "id": "5940eaf1",
   "metadata": {},
   "outputs": [
    {
     "name": "stdout",
     "output_type": "stream",
     "text": [
      "100\n",
      "A\n"
     ]
    }
   ],
   "source": [
    "# 9498번 시험 성적\n",
    "\n",
    "a = int(input())\n",
    "if 90 <= a:\n",
    "    print('A')\n",
    "elif 80 <= a:\n",
    "    print('B')\n",
    "elif 70 <= a:\n",
    "    print('C')\n",
    "elif 60 <= a:\n",
    "    print('D')\n",
    "else:\n",
    "    print('F')"
   ]
  },
  {
   "cell_type": "code",
   "execution_count": 9,
   "id": "446aa6ee",
   "metadata": {},
   "outputs": [
    {
     "name": "stdout",
     "output_type": "stream",
     "text": [
      "100\n",
      "0\n"
     ]
    }
   ],
   "source": [
    "# 2753번 윤년\n",
    "\n",
    "num = int(input())\n",
    "if num % 4 == 0 and num % 100 != 0 or num % 400 == 0:\n",
    "    print(1)\n",
    "else:\n",
    "    print(0)"
   ]
  },
  {
   "cell_type": "code",
   "execution_count": 27,
   "id": "7e42518c",
   "metadata": {},
   "outputs": [
    {
     "name": "stdout",
     "output_type": "stream",
     "text": [
      "12\n",
      "5\n",
      "1\n"
     ]
    }
   ],
   "source": [
    "# 14681번 사분면 고르기\n",
    "\n",
    "graph = []\n",
    "for i in range(2):\n",
    "    graph.append(input())\n",
    "    \n",
    "x = int(graph[0])\n",
    "y = int(graph[1])\n",
    "\n",
    "if x > 0 and y < 0:\n",
    "    print(4)\n",
    "elif x < 0 and y < 0:\n",
    "    print(3)\n",
    "elif x < 0 and y > 0:\n",
    "    print(2)\n",
    "else:\n",
    "    print(1)"
   ]
  },
  {
   "cell_type": "code",
   "execution_count": 31,
   "id": "3f8d1ccc",
   "metadata": {},
   "outputs": [
    {
     "name": "stdout",
     "output_type": "stream",
     "text": [
      "0 10\n",
      "23 25\n"
     ]
    }
   ],
   "source": [
    "# 2884 알람 시계\n",
    "\n",
    "h, m = input().split()\n",
    "h = int(h)\n",
    "m = int(m)\n",
    "\n",
    "if m >= 45:\n",
    "    print(h, m - 45)\n",
    "elif m < 45 and h > 0:\n",
    "    print(h - 1, m + 15)\n",
    "elif m < 45 and h == 0:\n",
    "    print(23, m + 15)"
   ]
  },
  {
   "cell_type": "code",
   "execution_count": null,
   "id": "db6f3556",
   "metadata": {},
   "outputs": [],
   "source": [
    "# 2525 오븐 시계"
   ]
  },
  {
   "cell_type": "code",
   "execution_count": null,
   "id": "b0134f90",
   "metadata": {},
   "outputs": [],
   "source": [
    "# 하누이 \n",
    "몰?루"
   ]
  }
 ],
 "metadata": {
  "kernelspec": {
   "display_name": "Python 3 (ipykernel)",
   "language": "python",
   "name": "python3"
  },
  "language_info": {
   "codemirror_mode": {
    "name": "ipython",
    "version": 3
   },
   "file_extension": ".py",
   "mimetype": "text/x-python",
   "name": "python",
   "nbconvert_exporter": "python",
   "pygments_lexer": "ipython3",
   "version": "3.9.7"
  }
 },
 "nbformat": 4,
 "nbformat_minor": 5
}
