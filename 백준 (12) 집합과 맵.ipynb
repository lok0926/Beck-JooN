{
 "cells": [
  {
   "cell_type": "code",
   "execution_count": 8,
   "id": "ca78bd01",
   "metadata": {},
   "outputs": [
    {
     "name": "stdout",
     "output_type": "stream",
     "text": [
      "5\n",
      "6 3 2 10 -10\n",
      "8\n",
      "10 9 -5 2 3 4 5 -10\n",
      "10011001"
     ]
    }
   ],
   "source": [
    "# 10815번 숫자 카드\n",
    "\n",
    "num = int(input())\n",
    "a = list(map(int, input().split())) # 제시된 수\n",
    "\n",
    "Num = int(input())\n",
    "b = list(map(int, input().split())) # 상근이가 가진 수\n",
    "\n",
    "for i in range(Num):\n",
    "    if b[i] in a:\n",
    "        print(1, end = ' ')\n",
    "    else:\n",
    "        print(0, end = ' ') # = > 시간초과"
   ]
  },
  {
   "cell_type": "code",
   "execution_count": null,
   "id": "afd9fd99",
   "metadata": {},
   "outputs": [],
   "source": [
    "import sys\n",
    "\n",
    "N = int(sys.stdin.readline())\n",
    "cards = list(map(int, sys.stdin.readline().split()))\n",
    "M = int(sys.stdin.readline())\n",
    "checks = list(map(int, sys.stdin.readline().split()))\n",
    "\n",
    "_dict = {}  \n",
    "for i in range(len(cards)):\n",
    "    _dict[cards[i]] = 0  \n",
    "\n",
    "for j in range(M):\n",
    "    if checks[j] not in _dict:\n",
    "        print(0, end=' ')\n",
    "    else:\n",
    "        print(1, end=' ') # 정답"
   ]
  },
  {
   "cell_type": "code",
   "execution_count": 12,
   "id": "46c34d9b",
   "metadata": {},
   "outputs": [
    {
     "ename": "SyntaxError",
     "evalue": "cannot assign to function call (Temp/ipykernel_3636/1547838700.py, line 4)",
     "output_type": "error",
     "traceback": [
      "\u001b[1;36m  File \u001b[1;32m\"C:\\Users\\a6501\\AppData\\Local\\Temp/ipykernel_3636/1547838700.py\"\u001b[1;36m, line \u001b[1;32m4\u001b[0m\n\u001b[1;33m    input() = sys.stdin.readline()\u001b[0m\n\u001b[1;37m    ^\u001b[0m\n\u001b[1;31mSyntaxError\u001b[0m\u001b[1;31m:\u001b[0m cannot assign to function call\n"
     ]
    }
   ],
   "source": [
    "# 14425번 문자열 집합\n",
    "\n",
    "import sys\n",
    "input = sys.stdin.readline\n",
    "\n",
    "N, M  = map(int, input().split())\n",
    "\n",
    "s = set([input() for _ in range(N)])  # 제시된 문자\n",
    "cnt = 0\n",
    "\n",
    "for i in range(M):\n",
    "    S = input()  # 검사 받는 문자\n",
    "    if S in s:\n",
    "        cnt += 1\n",
    "print(cnt)"
   ]
  },
  {
   "cell_type": "code",
   "execution_count": 35,
   "id": "77d57afe",
   "metadata": {
    "scrolled": true
   },
   "outputs": [
    {
     "name": "stdout",
     "output_type": "stream",
     "text": [
      "3 2\n",
      "aaa\n",
      "bbb\n",
      "ccc\n",
      "ccc\n",
      "3\n",
      "3\n"
     ]
    }
   ],
   "source": [
    "# 1620번 나는야 포켓몬 마스터 김경록\n",
    "\n",
    "N, M = map(int, input().split())\n",
    "x = []\n",
    "\n",
    "for i in range(N):\n",
    "    x.append(str(input()))\n",
    "\n",
    "x = sorted(x)\n",
    "\n",
    "for _ in range(M):\n",
    "    m = input()\n",
    "    if m.isdigit():\n",
    "        print(x[int(m)-1])\n",
    "    else:\n",
    "        print(x.index(m)+1)"
   ]
  },
  {
   "cell_type": "code",
   "execution_count": 1,
   "id": "cc302f4e",
   "metadata": {},
   "outputs": [
    {
     "name": "stdout",
     "output_type": "stream",
     "text": [
      "10\n",
      "6 3 2 10 10 10 -10 -10 7 3\n",
      "8\n",
      "10 9 -5 2 3 4 5 -10\n",
      "3 0 0 1 2 0 0 2 "
     ]
    }
   ],
   "source": [
    "# 10816번 숫자 카드 2 -> 시간초과\n",
    "\n",
    "M = int(input())\n",
    "answer = list(map(int, input().split()))\n",
    "\n",
    "N = int(input())\n",
    "san = list(map(int, input().split()))\n",
    "\n",
    "x = []\n",
    "for _ in san:\n",
    "    x.append(answer.count(_))\n",
    "    print(answer.count(_), end = ' ')"
   ]
  },
  {
   "cell_type": "code",
   "execution_count": 2,
   "id": "75f134d3",
   "metadata": {},
   "outputs": [
    {
     "name": "stdout",
     "output_type": "stream",
     "text": [
      "3 4\n",
      "ohhenrie\n",
      "charlie\n",
      "baesangwook\n",
      "obama\n",
      "baesangwook\n",
      "ohhenrie\n",
      "clinton\n",
      "2\n",
      "ohhenrie\n",
      "baesangwook\n"
     ]
    }
   ],
   "source": [
    "# 1764 듣보잡 -> 시간초과\n",
    "\n",
    "N, M = map(int, input().split())\n",
    "a = [] #듣도 못한\n",
    "b = [] #보도 못한\n",
    "\n",
    "for i in range(N):\n",
    "    a.append(input())\n",
    "for _ in range(M):\n",
    "    b.append(input())\n",
    "    \n",
    "cnt = 0\n",
    "answer=[]\n",
    "for x in a:\n",
    "    if x in b:\n",
    "        cnt += 1\n",
    "        answer.append(x)\n",
    "print(cnt)\n",
    "for X in answer:\n",
    "    print(X)"
   ]
  },
  {
   "cell_type": "code",
   "execution_count": 9,
   "id": "c65b2063",
   "metadata": {},
   "outputs": [
    {
     "name": "stdout",
     "output_type": "stream",
     "text": [
      "3 5\n",
      "1 2 4\n",
      "2 3 4 5 6\n",
      "4\n"
     ]
    }
   ],
   "source": [
    "# 1269번 대칭 차집합\n",
    "\n",
    "a, b = map(int, input().split())  # a = a의 집합 수, b = b의 집합 수\n",
    "\n",
    "A = set(map(int, input().split()))  # a의 집합\n",
    "B = set(map(int, input().split()))  # b의 집합\n",
    "\n",
    "print(len(A-B) + len(B-A))"
   ]
  }
 ],
 "metadata": {
  "kernelspec": {
   "display_name": "Python 3 (ipykernel)",
   "language": "python",
   "name": "python3"
  },
  "language_info": {
   "codemirror_mode": {
    "name": "ipython",
    "version": 3
   },
   "file_extension": ".py",
   "mimetype": "text/x-python",
   "name": "python",
   "nbconvert_exporter": "python",
   "pygments_lexer": "ipython3",
   "version": "3.9.7"
  }
 },
 "nbformat": 4,
 "nbformat_minor": 5
}
