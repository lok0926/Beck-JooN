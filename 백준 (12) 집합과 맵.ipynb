{
 "cells": [
  {
   "cell_type": "code",
   "execution_count": 8,
   "id": "bb26af37",
   "metadata": {},
   "outputs": [
    {
     "name": "stdout",
     "output_type": "stream",
     "text": [
      "5\n",
      "6 3 2 10 -10\n",
      "8\n",
      "10 9 -5 2 3 4 5 -10\n",
      "10011001"
     ]
    }
   ],
   "source": [
    "# 10815번 숫자 카드\n",
    "\n",
    "num = int(input())\n",
    "a = list(map(int, input().split())) # 제시된 수\n",
    "\n",
    "Num = int(input())\n",
    "b = list(map(int, input().split())) # 상근이가 가진 수\n",
    "\n",
    "for i in range(Num):\n",
    "    if b[i] in a:\n",
    "        print(1, end = ' ')\n",
    "    else:\n",
    "        print(0, end = ' ') # = > 시간초과"
   ]
  },
  {
   "cell_type": "code",
   "execution_count": null,
   "id": "1046cbec",
   "metadata": {},
   "outputs": [],
   "source": [
    "import sys\n",
    "\n",
    "N = int(sys.stdin.readline())\n",
    "cards = list(map(int, sys.stdin.readline().split()))\n",
    "M = int(sys.stdin.readline())\n",
    "checks = list(map(int, sys.stdin.readline().split()))\n",
    "\n",
    "_dict = {}  \n",
    "for i in range(len(cards)):\n",
    "    _dict[cards[i]] = 0  \n",
    "\n",
    "for j in range(M):\n",
    "    if checks[j] not in _dict:\n",
    "        print(0, end=' ')\n",
    "    else:\n",
    "        print(1, end=' ') # 정답"
   ]
  },
  {
   "cell_type": "code",
   "execution_count": 12,
   "id": "13b039d1",
   "metadata": {},
   "outputs": [
    {
     "ename": "SyntaxError",
     "evalue": "cannot assign to function call (Temp/ipykernel_3636/1547838700.py, line 4)",
     "output_type": "error",
     "traceback": [
      "\u001b[1;36m  File \u001b[1;32m\"C:\\Users\\a6501\\AppData\\Local\\Temp/ipykernel_3636/1547838700.py\"\u001b[1;36m, line \u001b[1;32m4\u001b[0m\n\u001b[1;33m    input() = sys.stdin.readline()\u001b[0m\n\u001b[1;37m    ^\u001b[0m\n\u001b[1;31mSyntaxError\u001b[0m\u001b[1;31m:\u001b[0m cannot assign to function call\n"
     ]
    }
   ],
   "source": [
    "# 14425번 문자열 집합\n",
    "\n",
    "import sys\n",
    "input = sys.stdin.readline\n",
    "\n",
    "N, M  = map(int, input().split())\n",
    "\n",
    "s = set([input() for _ in range(N)])  # 제시된 문자\n",
    "cnt = 0\n",
    "\n",
    "for i in range(M):\n",
    "    S = input()  # 검사 받는 문자\n",
    "    if S in s:\n",
    "        cnt += 1\n",
    "print(cnt)"
   ]
  },
  {
   "cell_type": "code",
   "execution_count": 35,
   "id": "6ea11263",
   "metadata": {
    "scrolled": true
   },
   "outputs": [
    {
     "name": "stdout",
     "output_type": "stream",
     "text": [
      "3 2\n",
      "aaa\n",
      "bbb\n",
      "ccc\n",
      "ccc\n",
      "3\n",
      "3\n"
     ]
    }
   ],
   "source": [
    "# 1620번 나는야 포켓몬 마스터 김경록\n",
    "\n",
    "N, M = map(int, input().split())\n",
    "x = []\n",
    "\n",
    "for i in range(N):\n",
    "    x.append(str(input()))\n",
    "\n",
    "x = sorted(x)\n",
    "\n",
    "for _ in range(M):\n",
    "    m = input()\n",
    "    if m.isdigit():\n",
    "        print(x[int(m)-1])\n",
    "    else:\n",
    "        print(x.index(m)+1)"
   ]
  },
  {
   "cell_type": "code",
   "execution_count": null,
   "id": "ffa7a33f",
   "metadata": {},
   "outputs": [],
   "source": []
  }
 ],
 "metadata": {
  "kernelspec": {
   "display_name": "Python 3 (ipykernel)",
   "language": "python",
   "name": "python3"
  },
  "language_info": {
   "codemirror_mode": {
    "name": "ipython",
    "version": 3
   },
   "file_extension": ".py",
   "mimetype": "text/x-python",
   "name": "python",
   "nbconvert_exporter": "python",
   "pygments_lexer": "ipython3",
   "version": "3.9.7"
  }
 },
 "nbformat": 4,
 "nbformat_minor": 5
}
