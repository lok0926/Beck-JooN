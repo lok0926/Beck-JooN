{
 "cells": [
  {
   "cell_type": "code",
   "execution_count": null,
   "id": "9f15577e",
   "metadata": {},
   "outputs": [],
   "source": [
    "# 1712번 손익분기점\n",
    "\n",
    "a, b, c = map(int, input().split()) # a = 고정 비용, b = 가변 비용, c = 총 수입\n",
    "\n",
    "if b >= c:\n",
    "    print(-1)\n",
    "elif:\n",
    "    print(a/(c-b)+1)"
   ]
  },
  {
   "cell_type": "code",
   "execution_count": 13,
   "id": "436e1a52",
   "metadata": {},
   "outputs": [
    {
     "name": "stdout",
     "output_type": "stream",
     "text": [
      "13\n",
      "3\n"
     ]
    }
   ],
   "source": [
    "# 2292번 벌집\n",
    "\n",
    "num = int(input())\n",
    "\n",
    "a = 1  # 방에 마지막 번호\n",
    "b = 1  # 몇번이나 방을 지났는지\n",
    "\n",
    "while a < num:\n",
    "    a += b*6\n",
    "    b += 1\n",
    "print(b)"
   ]
  },
  {
   "cell_type": "code",
   "execution_count": 2,
   "id": "34953cec",
   "metadata": {},
   "outputs": [
    {
     "name": "stdout",
     "output_type": "stream",
     "text": [
      "5\n",
      "2/2\n"
     ]
    }
   ],
   "source": [
    "# 1193번 분수찾기\n",
    "\n",
    "x = int(input())\n",
    "line = 1\n",
    "\n",
    "while x > line:\n",
    "    x -= line\n",
    "    line += 1\n",
    "\n",
    "if line % 2 == 0:\n",
    "    a = x\n",
    "    b = line - x + 1\n",
    "else:\n",
    "    a = line - x + 1\n",
    "    b = x\n",
    "print(f'{a}/{b}')"
   ]
  },
  {
   "cell_type": "code",
   "execution_count": 14,
   "id": "427dcc3b",
   "metadata": {},
   "outputs": [
    {
     "name": "stdout",
     "output_type": "stream",
     "text": [
      "2 1 5\n",
      "4\n"
     ]
    }
   ],
   "source": [
    "# 2869번 달팽이는 올라가고 싶다\n",
    "\n",
    "a, b, v = map(int, input().split())\n",
    "d = (v-b)/(a-b)\n",
    "if int(d)<d:\n",
    "    print(int(d)+1)\n",
    "else:\n",
    "    print(int(d))"
   ]
  },
  {
   "cell_type": "code",
   "execution_count": null,
   "id": "277f6690",
   "metadata": {},
   "outputs": [],
   "source": []
  }
 ],
 "metadata": {
  "kernelspec": {
   "display_name": "Python 3 (ipykernel)",
   "language": "python",
   "name": "python3"
  },
  "language_info": {
   "codemirror_mode": {
    "name": "ipython",
    "version": 3
   },
   "file_extension": ".py",
   "mimetype": "text/x-python",
   "name": "python",
   "nbconvert_exporter": "python",
   "pygments_lexer": "ipython3",
   "version": "3.9.7"
  }
 },
 "nbformat": 4,
 "nbformat_minor": 5
}
