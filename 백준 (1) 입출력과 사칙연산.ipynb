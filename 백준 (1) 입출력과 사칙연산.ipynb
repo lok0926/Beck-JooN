{
 "cells": [
  {
   "cell_type": "code",
   "execution_count": 1,
   "id": "867249f3",
   "metadata": {},
   "outputs": [
    {
     "name": "stdout",
     "output_type": "stream",
     "text": [
      "Hello World\n"
     ]
    }
   ],
   "source": [
    "# 2557번 Hello World\n",
    "\n",
    "print('Hello World!')"
   ]
  },
  {
   "cell_type": "code",
   "execution_count": 3,
   "id": "04cc69c2",
   "metadata": {},
   "outputs": [
    {
     "name": "stdout",
     "output_type": "stream",
     "text": [
      "강한친구 대한육군\n",
      "강한친구 대한육군\n"
     ]
    }
   ],
   "source": [
    "#10718번 We love kriii\n",
    "\n",
    "for i in range(2):\n",
    "    print('강한친구 대한육군')"
   ]
  },
  {
   "cell_type": "code",
   "execution_count": 4,
   "id": "c3cf0cf5",
   "metadata": {},
   "outputs": [
    {
     "name": "stdout",
     "output_type": "stream",
     "text": [
      "\\    /\\\n",
      " )  ( ')\n",
      "(  /  )\n",
      " \\(__)|\n"
     ]
    }
   ],
   "source": [
    "# 10171번 고양이\n",
    "\n",
    "print('\\\\    /\\\\')\n",
    "print(\" )  ( ')\")\n",
    "print('(  /  )')\n",
    "print(' \\\\(__)|')"
   ]
  },
  {
   "cell_type": "code",
   "execution_count": 5,
   "id": "b8c932b9",
   "metadata": {},
   "outputs": [
    {
     "name": "stdout",
     "output_type": "stream",
     "text": [
      "|\\_/|\n",
      "|q p|   /}\n",
      "( 0 )\"\"\"\\\n",
      "|\"^\"`    |\n",
      "||_/=\\\\__|\n"
     ]
    }
   ],
   "source": [
    "# 17172번 개\n",
    "\n",
    "print('|\\\\_/|')\n",
    "print('|q p|   /}') \n",
    "print('( 0 )\"\"\"\\\\')\n",
    "print('|\"^\"`    |')\n",
    "print('||_/=\\\\\\\\__|')"
   ]
  },
  {
   "cell_type": "code",
   "execution_count": 6,
   "id": "9ee5c59e",
   "metadata": {},
   "outputs": [
    {
     "name": "stdout",
     "output_type": "stream",
     "text": [
      "1 2\n",
      "3\n"
     ]
    }
   ],
   "source": [
    "# 1000번 A + B\n",
    "\n",
    "A, B = map(int, input().split())\n",
    "print(A + B)"
   ]
  },
  {
   "cell_type": "code",
   "execution_count": 9,
   "id": "99d72e76",
   "metadata": {},
   "outputs": [
    {
     "name": "stdout",
     "output_type": "stream",
     "text": [
      "3 2\n",
      "1\n"
     ]
    }
   ],
   "source": [
    "# 1001번 A - B\n",
    "\n",
    "A, B = map(int, input().split())\n",
    "print(A - B)"
   ]
  },
  {
   "cell_type": "code",
   "execution_count": 11,
   "id": "e1d50e6c",
   "metadata": {},
   "outputs": [
    {
     "name": "stdout",
     "output_type": "stream",
     "text": [
      "3 4\n",
      "12\n"
     ]
    }
   ],
   "source": [
    "# 10998번 A X B\n",
    "\n",
    "A, B = map(int, input().split())\n",
    "print(A * B)"
   ]
  },
  {
   "cell_type": "code",
   "execution_count": 10,
   "id": "4c69683e",
   "metadata": {},
   "outputs": [
    {
     "name": "stdout",
     "output_type": "stream",
     "text": [
      "3 2\n",
      "1.5\n"
     ]
    }
   ],
   "source": [
    "# 1008번 A / B\n",
    "\n",
    "A, B = map(int, input().split())\n",
    "print(A / B)"
   ]
  },
  {
   "cell_type": "code",
   "execution_count": 13,
   "id": "25b0d831",
   "metadata": {},
   "outputs": [
    {
     "name": "stdout",
     "output_type": "stream",
     "text": [
      "7 3\n",
      "10\n",
      "4\n",
      "21\n",
      "2\n",
      "1\n"
     ]
    }
   ],
   "source": [
    "# 10869번 사칙연산\n",
    "\n",
    "A, B = map(int, input().split())\n",
    "print(A + B)\n",
    "print(A - B)\n",
    "print(A * B)\n",
    "print(A // B)\n",
    "print(A % B)"
   ]
  },
  {
   "cell_type": "code",
   "execution_count": 22,
   "id": "9ec3e8cc",
   "metadata": {},
   "outputs": [
    {
     "name": "stdout",
     "output_type": "stream",
     "text": [
      "word\n",
      "word??!\n"
     ]
    }
   ],
   "source": [
    "# 10926번 ??!\n",
    "\n",
    "word = input()\n",
    "print(word + '??!')"
   ]
  },
  {
   "cell_type": "code",
   "execution_count": 24,
   "id": "603a4663",
   "metadata": {},
   "outputs": [
    {
     "name": "stdout",
     "output_type": "stream",
     "text": [
      "2541\n",
      "1998\n"
     ]
    }
   ],
   "source": [
    "# 18108번 1998년생인 내가 태국에서는 2541년생?!\n",
    "\n",
    "year = int(input())\n",
    "print(year - 543)"
   ]
  },
  {
   "cell_type": "code",
   "execution_count": 25,
   "id": "db7647ff",
   "metadata": {},
   "outputs": [
    {
     "name": "stdout",
     "output_type": "stream",
     "text": [
      "5 8 4\n",
      "1\n",
      "1\n",
      "0\n",
      "0\n"
     ]
    }
   ],
   "source": [
    "# 10430번 나머지\n",
    "\n",
    "a, b, c = input().split()\n",
    "a = int(a)\n",
    "b = int(b)\n",
    "c = int(c)\n",
    "print((a+b)%c)\n",
    "print(((a%c)+(b%c))%c)\n",
    "print((a*b)%c)\n",
    "print(((a%c)*(b%c))%c)"
   ]
  },
  {
   "cell_type": "code",
   "execution_count": 26,
   "id": "c33490dc",
   "metadata": {},
   "outputs": [
    {
     "name": "stdout",
     "output_type": "stream",
     "text": [
      "472\n",
      "385\n",
      "2360\n",
      "3776\n",
      "1416\n",
      "181720\n"
     ]
    }
   ],
   "source": [
    "# 2588번 곱셈\n",
    "\n",
    "a = input()\n",
    "b = input()\n",
    "a = int(a)\n",
    "print(a*int(b[2]))\n",
    "print(a*int(b[1]))\n",
    "print(a*int(b[0]))\n",
    "print(a*int(b))"
   ]
  },
  {
   "cell_type": "code",
   "execution_count": 43,
   "id": "4609dc15",
   "metadata": {},
   "outputs": [
    {
     "name": "stdout",
     "output_type": "stream",
     "text": [
      "         ,r'\"7\n",
      "r`-_   ,'  ,/\n",
      " \\. \". L_r'\n",
      "   `~\\/\n",
      "      |\n",
      "      |\n"
     ]
    }
   ],
   "source": [
    "# 25083번 새싹\n",
    "\n",
    "print('         ,r\\'\"7')\n",
    "print(\"r`-_   ,'  ,/\")\n",
    "print(\" \\. \\\". L_r'\")\n",
    "print('   `~\\/')\n",
    "print('      |')\n",
    "print('      |')"
   ]
  }
 ],
 "metadata": {
  "kernelspec": {
   "display_name": "Python 3 (ipykernel)",
   "language": "python",
   "name": "python3"
  },
  "language_info": {
   "codemirror_mode": {
    "name": "ipython",
    "version": 3
   },
   "file_extension": ".py",
   "mimetype": "text/x-python",
   "name": "python",
   "nbconvert_exporter": "python",
   "pygments_lexer": "ipython3",
   "version": "3.9.7"
  }
 },
 "nbformat": 4,
 "nbformat_minor": 5
}
