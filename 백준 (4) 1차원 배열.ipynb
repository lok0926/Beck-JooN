{
 "cells": [
  {
   "cell_type": "code",
   "execution_count": 2,
   "id": "0fdd8c86",
   "metadata": {},
   "outputs": [
    {
     "name": "stdout",
     "output_type": "stream",
     "text": [
      "5\n",
      "20 10 35 30 7\n",
      "7 35\n"
     ]
    }
   ],
   "source": [
    "# 10818번 최소, 최대\n",
    "\n",
    "n = int(input())\n",
    "\n",
    "num = list(map(int, input().split()))\n",
    "\n",
    "print(min(num), max(num))"
   ]
  },
  {
   "cell_type": "code",
   "execution_count": 5,
   "id": "e243ea57",
   "metadata": {},
   "outputs": [
    {
     "name": "stdout",
     "output_type": "stream",
     "text": [
      "3\n",
      "29\n",
      "38\n",
      "12\n",
      "57\n",
      "74\n",
      "40\n",
      "85\n",
      "61\n",
      "85\n",
      "8\n"
     ]
    }
   ],
   "source": [
    "# 2562번 최댓값\n",
    "\n",
    "x = []\n",
    "for i in range(9):\n",
    "    x.append(int(input()))\n",
    "\n",
    "print(max(x))\n",
    "\n",
    "cnt = 0\n",
    "\n",
    "for _ in x:\n",
    "    cnt += 1\n",
    "    if _ == max(x):\n",
    "        break\n",
    "print(cnt)\n",
    "\n",
    "# a = []\n",
    "# for i in range(9):\n",
    "#     a.append(int(input()))\n",
    "# print(max(a))\n",
    "# print(a.index(max(a))+1)"
   ]
  },
  {
   "cell_type": "code",
   "execution_count": 10,
   "id": "e9dbf42e",
   "metadata": {},
   "outputs": [
    {
     "name": "stdout",
     "output_type": "stream",
     "text": [
      "1\n",
      "5\n",
      "1\n",
      "5\n",
      "1\n",
      "5\n",
      "1\n",
      "5\n",
      "1\n",
      "5\n",
      "2\n"
     ]
    }
   ],
   "source": [
    "# 3052번 나머지\n",
    "\n",
    "a = []\n",
    "for i in range(10):\n",
    "    a.append(int(input())%42)\n",
    "\n",
    "A = set(a)\n",
    "\n",
    "cnt = 0\n",
    "\n",
    "for _ in A:            # len(A)  ㅋㅋ\n",
    "    cnt += 1\n",
    "\n",
    "print(cnt)"
   ]
  },
  {
   "cell_type": "code",
   "execution_count": 32,
   "id": "69ff5d6c",
   "metadata": {},
   "outputs": [
    {
     "name": "stdout",
     "output_type": "stream",
     "text": [
      "3\n",
      "10 20 30\n",
      "66.66666666666667\n"
     ]
    }
   ],
   "source": [
    "# 1546번 평균\n",
    "\n",
    "n = int(input())\n",
    "\n",
    "test = list(map(int, input().split()))\n",
    "\n",
    "new = []\n",
    "\n",
    "for i in test:\n",
    "    new.append(i/max(test)*100)\n",
    "\n",
    "print(sum(new)/n)"
   ]
  },
  {
   "cell_type": "code",
   "execution_count": null,
   "id": "511145ac",
   "metadata": {},
   "outputs": [],
   "source": [
    "# 8958번 OX퀴즈\n",
    "\n",
    "n = int(input())\n",
    "\n",
    "quiz = []\n",
    "\n",
    "cnt = 0\n",
    "\n",
    "for i in range(n):\n",
    "    quiz.append(str(input()))\n",
    "    if quiz"
   ]
  },
  {
   "cell_type": "code",
   "execution_count": null,
   "id": "d9ad7168",
   "metadata": {},
   "outputs": [],
   "source": [
    "# 4344번 평균은 넘겠지\n",
    "\n",
    "n = int(input())\n",
    "\n",
    "p = 0\n",
    "\n",
    "for i in range(n):\n",
    "    x = list(map(int, input().split()))\n",
    "    for i in range(x[0]):\n",
    "        p += x[i+1]\n",
    "        P = p/x[0]\n",
    "ㅠ"
   ]
  }
 ],
 "metadata": {
  "kernelspec": {
   "display_name": "Python 3 (ipykernel)",
   "language": "python",
   "name": "python3"
  },
  "language_info": {
   "codemirror_mode": {
    "name": "ipython",
    "version": 3
   },
   "file_extension": ".py",
   "mimetype": "text/x-python",
   "name": "python",
   "nbconvert_exporter": "python",
   "pygments_lexer": "ipython3",
   "version": "3.9.7"
  }
 },
 "nbformat": 4,
 "nbformat_minor": 5
}
