{
 "cells": [
  {
   "cell_type": "code",
   "execution_count": 2,
   "id": "0fdd8c86",
   "metadata": {},
   "outputs": [
    {
     "name": "stdout",
     "output_type": "stream",
     "text": [
      "5\n",
      "20 10 35 30 7\n",
      "7 35\n"
     ]
    }
   ],
   "source": [
    "# 10818번 최소, 최대\n",
    "\n",
    "n = int(input())\n",
    "\n",
    "num = list(map(int, input().split()))\n",
    "\n",
    "print(min(num), max(num))"
   ]
  },
  {
   "cell_type": "code",
   "execution_count": 5,
   "id": "e243ea57",
   "metadata": {},
   "outputs": [
    {
     "name": "stdout",
     "output_type": "stream",
     "text": [
      "3\n",
      "29\n",
      "38\n",
      "12\n",
      "57\n",
      "74\n",
      "40\n",
      "85\n",
      "61\n",
      "85\n",
      "8\n"
     ]
    }
   ],
   "source": [
    "# 2562번 최댓값\n",
    "\n",
    "x = []\n",
    "for i in range(9):\n",
    "    x.append(int(input()))\n",
    "\n",
    "print(max(x))\n",
    "\n",
    "cnt = 0\n",
    "\n",
    "for _ in x:\n",
    "    cnt += 1\n",
    "    if _ == max(x):\n",
    "        break\n",
    "print(cnt)\n",
    "\n",
    "# a = []\n",
    "# for i in range(9):\n",
    "#     a.append(int(input()))\n",
    "# print(max(a))\n",
    "# print(a.index(max(a))+1)"
   ]
  },
  {
   "cell_type": "code",
   "execution_count": 9,
   "id": "1b23438e",
   "metadata": {},
   "outputs": [
    {
     "name": "stdout",
     "output_type": "stream",
     "text": [
      "150\n",
      "266\n",
      "427\n",
      "3\n",
      "1\n",
      "0\n",
      "2\n",
      "0\n",
      "0\n",
      "0\n",
      "2\n",
      "0\n",
      "0\n"
     ]
    }
   ],
   "source": [
    "# 2577번 숫자의 개수\n",
    "\n",
    "a = int(input())\n",
    "b = int(input())\n",
    "c = int(input())\n",
    "\n",
    "total = a*b*c\n",
    "\n",
    "abc = list(str(total))\n",
    "\n",
    "print(abc.count('0'))\n",
    "print(abc.count('1'))\n",
    "print(abc.count('2'))\n",
    "print(abc.count('3'))\n",
    "print(abc.count('4'))\n",
    "print(abc.count('5'))\n",
    "print(abc.count('6'))\n",
    "print(abc.count('7'))\n",
    "print(abc.count('8'))\n",
    "print(abc.count('9'))"
   ]
  },
  {
   "cell_type": "code",
   "execution_count": null,
   "id": "7401b1f8",
   "metadata": {},
   "outputs": [],
   "source": [
    "# 3052번 나머지\n",
    "\n"
   ]
  },
  {
   "cell_type": "code",
   "execution_count": null,
   "id": "69ff5d6c",
   "metadata": {},
   "outputs": [],
   "source": [
    "# 1546번 평균"
   ]
  },
  {
   "cell_type": "code",
   "execution_count": null,
   "id": "511145ac",
   "metadata": {},
   "outputs": [],
   "source": [
    "# 8958번 OX퀴즈"
   ]
  },
  {
   "cell_type": "code",
   "execution_count": null,
   "id": "d9ad7168",
   "metadata": {},
   "outputs": [],
   "source": [
    "# 4344번 평균은 넘겠지"
   ]
  }
 ],
 "metadata": {
  "kernelspec": {
   "display_name": "Python 3 (ipykernel)",
   "language": "python",
   "name": "python3"
  },
  "language_info": {
   "codemirror_mode": {
    "name": "ipython",
    "version": 3
   },
   "file_extension": ".py",
   "mimetype": "text/x-python",
   "name": "python",
   "nbconvert_exporter": "python",
   "pygments_lexer": "ipython3",
   "version": "3.9.7"
  }
 },
 "nbformat": 4,
 "nbformat_minor": 5
}
