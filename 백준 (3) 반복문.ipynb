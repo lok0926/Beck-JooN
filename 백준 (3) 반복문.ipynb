{
 "cells": [
  {
   "cell_type": "code",
   "execution_count": 5,
   "id": "70607d17",
   "metadata": {},
   "outputs": [
    {
     "name": "stdout",
     "output_type": "stream",
     "text": [
      "2\n",
      "2 * 1 = 2\n",
      "2 * 2 = 4\n",
      "2 * 3 = 6\n",
      "2 * 4 = 8\n",
      "2 * 5 = 10\n",
      "2 * 6 = 12\n",
      "2 * 7 = 14\n",
      "2 * 8 = 16\n",
      "2 * 9 = 18\n"
     ]
    }
   ],
   "source": [
    "# 2739번 구구단\n",
    "\n",
    "a = int(input())\n",
    "\n",
    "for i in range(1, 10):\n",
    "    print(f'{a} * {i} = {a*i}')"
   ]
  },
  {
   "cell_type": "code",
   "execution_count": 13,
   "id": "9ca736f1",
   "metadata": {},
   "outputs": [
    {
     "name": "stdout",
     "output_type": "stream",
     "text": [
      "5\n",
      "2 2\n",
      "4\n",
      "3 3\n",
      "6\n",
      "4 4\n",
      "8\n",
      "140 214\n",
      "354\n",
      "412414 14124124\n",
      "14536538\n"
     ]
    }
   ],
   "source": [
    "# 10950번 A + B - 3\n",
    "\n",
    "n = int(input())\n",
    "\n",
    "for i in range(n):\n",
    "    a, b = map(int, input().split())\n",
    "    print(a + b)"
   ]
  },
  {
   "cell_type": "code",
   "execution_count": null,
   "id": "44e7c49a",
   "metadata": {},
   "outputs": [],
   "source": [
    "# 8393번 합\n",
    "\n",
    "a = int(input())\n",
    "n = []\n",
    "\n",
    "for i in range(1, a+1):\n",
    "    n.append(i)\n",
    "print(sum(n))"
   ]
  },
  {
   "cell_type": "code",
   "execution_count": null,
   "id": "213a1889",
   "metadata": {},
   "outputs": [],
   "source": [
    "# 15552번 빠른 A + B\n",
    "\n",
    "import sys\n",
    "\n",
    "a = int(input())\n",
    "\n",
    "for i in range(a):\n",
    "    a, b = map(int, sys.stdin.readline().split())\n",
    "    print(a + b)"
   ]
  },
  {
   "cell_type": "code",
   "execution_count": 2,
   "id": "c8d61e28",
   "metadata": {},
   "outputs": [
    {
     "name": "stdout",
     "output_type": "stream",
     "text": [
      "4\n",
      "1\n",
      "2\n",
      "3\n",
      "4\n"
     ]
    }
   ],
   "source": [
    "# 2741번 N 찍기\n",
    "\n",
    "a = int(input())\n",
    "\n",
    "for i in range(1, a + 1):\n",
    "    print(i)"
   ]
  },
  {
   "cell_type": "code",
   "execution_count": 4,
   "id": "c5de89d3",
   "metadata": {
    "scrolled": false
   },
   "outputs": [
    {
     "name": "stdout",
     "output_type": "stream",
     "text": [
      "5\n",
      "5\n",
      "4\n",
      "3\n",
      "2\n",
      "1\n"
     ]
    }
   ],
   "source": [
    "# 2742번 기찍 N\n",
    "\n",
    "n = int(input())\n",
    "\n",
    "a = []\n",
    "\n",
    "for i in range(1, n+1):\n",
    "    a.append(i)\n",
    "\n",
    "a.sort(reverse = True)\n",
    "\n",
    "for i in a:\n",
    "    print(i)"
   ]
  },
  {
   "cell_type": "code",
   "execution_count": 7,
   "id": "3504379f",
   "metadata": {
    "scrolled": true
   },
   "outputs": [
    {
     "name": "stdout",
     "output_type": "stream",
     "text": [
      "5\n",
      "1 1\n",
      "Case #1: 2\n",
      "2 2\n",
      "Case #2: 4\n",
      "3 3\n",
      "Case #3: 6\n",
      "4 4\n",
      "Case #4: 8\n",
      "5 5\n",
      "Case #5: 10\n"
     ]
    }
   ],
   "source": [
    "# 11021번 A + B - 7\n",
    "\n",
    "n = int(input())\n",
    "\n",
    "for i in range(1, n+1):\n",
    "    a, b = map(int, input().split())\n",
    "    print(f'Case #{i}: {a+b}')"
   ]
  },
  {
   "cell_type": "code",
   "execution_count": 9,
   "id": "b8120ad0",
   "metadata": {},
   "outputs": [
    {
     "name": "stdout",
     "output_type": "stream",
     "text": [
      "5\n",
      "1 1\n",
      "Case #1: 1 + 1 = 2\n",
      "2 3\n",
      "Case #2: 2 + 3 = 5\n",
      "3 4\n",
      "Case #3: 3 + 4 = 7\n",
      "9 8\n",
      "Case #4: 9 + 8 = 17\n",
      "5 2\n",
      "Case #5: 5 + 2 = 7\n"
     ]
    }
   ],
   "source": [
    "# 11022번 A + B - 8\n",
    "\n",
    "n = int(input())\n",
    "\n",
    "for i in range(1, n+1):\n",
    "    a, b = map(int, input().split())\n",
    "    print(f'Case #{i}: {a} + {b} = {a+b}')"
   ]
  },
  {
   "cell_type": "code",
   "execution_count": 11,
   "id": "d0ca1a99",
   "metadata": {},
   "outputs": [
    {
     "name": "stdout",
     "output_type": "stream",
     "text": [
      "5\n",
      "*\n",
      "**\n",
      "***\n",
      "****\n",
      "*****\n"
     ]
    }
   ],
   "source": [
    "# 2438번 별 찍기 - 1\n",
    "\n",
    "n = int(input())\n",
    "\n",
    "for i in range(1, n+1):\n",
    "    print(i * '*')"
   ]
  },
  {
   "cell_type": "code",
   "execution_count": 12,
   "id": "713d25ad",
   "metadata": {},
   "outputs": [
    {
     "name": "stdout",
     "output_type": "stream",
     "text": [
      "5\n",
      "['*', '**', '***', '****', '*****']\n"
     ]
    }
   ],
   "source": [
    "# 2439번 별 찍기 - 2\n",
    "\n",
    "n = int(input())\n",
    "\n",
    "a = []\n",
    "\n",
    "for i in range(1, n+1):\n",
    "    a.append(i*'*')\n",
    "\n",
    "print(a)\n",
    "\n",
    "실패"
   ]
  },
  {
   "cell_type": "code",
   "execution_count": 53,
   "id": "3cc82418",
   "metadata": {},
   "outputs": [
    {
     "name": "stdout",
     "output_type": "stream",
     "text": [
      "10 5\n",
      "1 10 4 9 2 3 8 5 7 6\n",
      "[1, 10, 4, 9, 2, 3, 8, 5, 7, 6]\n",
      "1 4 2 3 "
     ]
    }
   ],
   "source": [
    "# 10871번 X보다 작은 수\n",
    "\n",
    "n, a = map(int, input().split())\n",
    "\n",
    "x = list(map(int, input().split()))\n",
    "\n",
    "for i in range(n):\n",
    "    if x[i] < a:\n",
    "        print(x[i], end=\" \")"
   ]
  },
  {
   "cell_type": "code",
   "execution_count": 59,
   "id": "3cd860e8",
   "metadata": {
    "scrolled": true
   },
   "outputs": [
    {
     "name": "stdout",
     "output_type": "stream",
     "text": [
      "1 1\n",
      "2\n",
      "2 3\n",
      "5\n",
      "3 4\n",
      "7\n",
      "9 8\n",
      "17\n",
      "5 2\n",
      "7\n",
      "0 0\n"
     ]
    }
   ],
   "source": [
    "# 10952번 A + B - 5\n",
    "\n",
    "while True:\n",
    "    a, b = map(int, input().split())\n",
    "    if a + b == 0:\n",
    "        break;\n",
    "    print(a + b)"
   ]
  },
  {
   "cell_type": "code",
   "execution_count": 62,
   "id": "c4567fe0",
   "metadata": {},
   "outputs": [],
   "source": [
    "# 10951번 A + B - 4\n",
    "\n",
    "while True:\n",
    "    try:\n",
    "        a, b = map(int, input().split())\n",
    "        print(a + b)\n",
    "    except:\n",
    "        break;"
   ]
  },
  {
   "cell_type": "code",
   "execution_count": 69,
   "id": "5725d4f6",
   "metadata": {},
   "outputs": [
    {
     "ename": "IndentationError",
     "evalue": "expected an indented block (Temp/ipykernel_1160/3368343736.py, line 7)",
     "output_type": "error",
     "traceback": [
      "\u001b[1;36m  File \u001b[1;32m\"C:\\Users\\a6501\\AppData\\Local\\Temp/ipykernel_1160/3368343736.py\"\u001b[1;36m, line \u001b[1;32m7\u001b[0m\n\u001b[1;33m    while True:\u001b[0m\n\u001b[1;37m               ^\u001b[0m\n\u001b[1;31mIndentationError\u001b[0m\u001b[1;31m:\u001b[0m expected an indented block\n"
     ]
    }
   ],
   "source": [
    "# 1110번 더하기 사이클\n",
    "\n",
    "num = map(int, input())\n",
    "\n",
    "n = list(num)\n",
    "\n",
    "m = []\n",
    "while True:\n",
    "    n[0] + n[1] = x\n",
    "    x = list(x)\n",
    "    m.append(n[1], x[-1])\n",
    "실패"
   ]
  }
 ],
 "metadata": {
  "kernelspec": {
   "display_name": "Python 3 (ipykernel)",
   "language": "python",
   "name": "python3"
  },
  "language_info": {
   "codemirror_mode": {
    "name": "ipython",
    "version": 3
   },
   "file_extension": ".py",
   "mimetype": "text/x-python",
   "name": "python",
   "nbconvert_exporter": "python",
   "pygments_lexer": "ipython3",
   "version": "3.9.7"
  }
 },
 "nbformat": 4,
 "nbformat_minor": 5
}
